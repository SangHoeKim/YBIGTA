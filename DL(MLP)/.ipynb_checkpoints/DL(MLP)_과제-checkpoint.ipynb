{
 "cells": [
  {
   "cell_type": "markdown",
   "metadata": {
    "id": "MN_pVd5cU2QQ"
   },
   "source": [
    "# 과제: MNIST 데이터를 나만의 NN model로 95 % 이상의 성능으로 training 시켜보자!\n",
    "\n",
    "\n",
    "## Loading MNIST training data"
   ]
  },
  {
   "cell_type": "code",
   "execution_count": 32,
   "metadata": {
    "id": "hwZNV5MFU2QQ"
   },
   "outputs": [],
   "source": [
    "import tensorflow as tf\n",
    "\n",
    "# import matplotlib\n",
    "import matplotlib.pyplot as plt\n",
    "%matplotlib inline\n",
    "\n",
    "# Loading the data\n",
    "(x_train, y_train), (x_test, y_test) = tf.keras.datasets.mnist.load_data()\n",
    "\n",
    "# Scaling(image data는 min-max scaling 주로 사용)\n",
    "x_train = x_train/255.0\n",
    "x_test = x_test/255.0"
   ]
  },
  {
   "cell_type": "markdown",
   "metadata": {
    "id": "RDU8J2xRU2QQ"
   },
   "source": [
    "## Training Data\n",
    "28 * 28 pixel 값을 가진 총 60000개의 이미지 데이터"
   ]
  },
  {
   "cell_type": "code",
   "execution_count": 33,
   "metadata": {
    "id": "jVvXmjQSU2QQ"
   },
   "outputs": [
    {
     "data": {
      "text/plain": [
       "(60000, 28, 28)"
      ]
     },
     "execution_count": 33,
     "metadata": {},
     "output_type": "execute_result"
    }
   ],
   "source": [
    "x_train.shape "
   ]
  },
  {
   "cell_type": "markdown",
   "metadata": {
    "id": "-VTAAYKSU2QQ"
   },
   "source": [
    "Neural network 모델에 맞게 이미지 데이터를 벡터 형태로 데이터를 reshape 합니다.  \n",
    "(Model을 만들 때 *keras.layers.Flatten(input_shape=(28, 28)) 이용해도 됨)"
   ]
  },
  {
   "cell_type": "code",
   "execution_count": 34,
   "metadata": {
    "id": "dq36yUX8U2QR"
   },
   "outputs": [
    {
     "data": {
      "text/plain": [
       "((60000, 784), (10000, 784))"
      ]
     },
     "execution_count": 34,
     "metadata": {},
     "output_type": "execute_result"
    }
   ],
   "source": [
    "x_train, x_test = x_train.reshape((-1, 28*28)), x_test.reshape((-1, 28*28))\n",
    "x_train.shape, x_test.shape"
   ]
  },
  {
   "cell_type": "code",
   "execution_count": 35,
   "metadata": {
    "id": "zrQLH9iXU2QR"
   },
   "outputs": [
    {
     "data": {
      "image/png": "[encoded data removed]",
      "text/plain": [
       "<Figure size 432x288 with 1 Axes>"
      ]
     },
     "metadata": {
      "needs_background": "light"
     },
     "output_type": "display_data"
    }
   ],
   "source": [
    "plt.imshow(x_train[0].reshape(28,28)).set_cmap('Greys')"
   ]
  },
  {
   "cell_type": "markdown",
   "metadata": {
    "id": "0YZXzr-AU2QR"
   },
   "source": [
    "## Training Labels\n",
    "이미지 데이터가 나타내는 숫자값을 label로 가지고 있고, 0부터 9까지의 값을 나타냄  \n",
    "마찬가지로, 60000개의 label이 존재"
   ]
  },
  {
   "cell_type": "code",
   "execution_count": 36,
   "metadata": {
    "id": "V-JVvQcJU2QR"
   },
   "outputs": [
    {
     "data": {
      "text/plain": [
       "(60000,)"
      ]
     },
     "execution_count": 36,
     "metadata": {},
     "output_type": "execute_result"
    }
   ],
   "source": [
    "y_train.shape"
   ]
  },
  {
   "cell_type": "code",
   "execution_count": 37,
   "metadata": {
    "id": "PgAkJK6yU2QR"
   },
   "outputs": [
    {
     "data": {
      "text/plain": [
       "5"
      ]
     },
     "execution_count": 37,
     "metadata": {},
     "output_type": "execute_result"
    }
   ],
   "source": [
    "# show MNIST label for above data\n",
    "y_train[0]"
   ]
  },
  {
   "cell_type": "markdown",
   "metadata": {
    "id": "qaI3Kv_GU2QR"
   },
   "source": [
    "## 나만의 모델을 tensorflow keras API 를 이용해 만들어 봅시다~"
   ]
  },
  {
   "cell_type": "markdown",
   "metadata": {
    "id": "gSshVnt2U2QS"
   },
   "source": [
    "* parameters for model"
   ]
  },
  {
   "cell_type": "code",
   "execution_count": 38,
   "metadata": {
    "id": "coUZ53nKU2QS"
   },
   "outputs": [],
   "source": [
    "activation_list = [\"sigmoid\", \"relu\", \"softmax\", \"tanh\"]\n",
    "\n",
    "loss_list = [\"sparse_categorical_crossentropy\",\n",
    "             \"categorical_crossentropy\", \n",
    "             \"binary_crossentropy\"]\n",
    "\n",
    "optimizer_list = [\"sgd\", \"adam\", \"rmsprop\", \"adagrad\"]\n",
    "\n",
    "initializer_list = [tf.keras.initializers.RandomNormal(), \n",
    "                    tf.keras.initializers.RandomUniform(), \n",
    "                    tf.keras.initializers.he_normal(), \n",
    "                    tf.keras.initializers.he_uniform(), \n",
    "                    tf.keras.initializers.GlorotUniform(),\n",
    "                    tf.keras.initializers.GlorotNormal()]\n",
    "\n",
    "# dropout\n",
    "dropout_rate = 0.3\n",
    "model = tf.keras.Sequential([\n",
    "    tf.keras.layers.Dense(256, input_dim=784, activation = \"sigmoid\"),\n",
    "    tf.keras.layers.Dense(2, activation = \"sigmoid\"),\n",
    "    tf.keras.layers.Dropout(dropout_rate)\n",
    "])\n",
    "\n",
    "\n",
    "# regularizer\n",
    "regularizer = tf.keras.regularizers.l1(1e-3)\n",
    "regularizer = tf.keras.regularizers.l2(1e-3)\n",
    "model = tf.keras.Sequential([\n",
    "    tf.keras.layers.Dense(256, input_dim=784, activation=\"sigmoid\",\n",
    "                          activity_regularizer=regularizer)\n",
    "])\n",
    "\n",
    "# weight initialization\n",
    "model = tf.keras.Sequential([\n",
    "    tf.keras.layers.Dense(256, input_dim=784, activation=\"sigmoid\",\n",
    "                          kernel_initializer=initializer_list[0])\n",
    "])"
   ]
  },
  {
   "cell_type": "markdown",
   "metadata": {
    "id": "d-6ZTz4AU2QS"
   },
   "source": [
    "#### My Own Model "
   ]
  },
  {
   "cell_type": "code",
   "execution_count": 39,
   "metadata": {},
   "outputs": [],
   "source": [
    "x_train_scaled = x_train.astype('float32') / 255.\n",
    "x_test_scaled = x_test.astype('float32') / 255.\n",
    "\n",
    "y_train_cat = tf.keras.utils.to_categorical(y_train)\n",
    "y_test_cat = tf.keras.utils.to_categorical(y_test)"
   ]
  },
  {
   "cell_type": "code",
   "execution_count": 51,
   "metadata": {},
   "outputs": [],
   "source": [
    "dropout_rate = 0.3\n",
    "\n",
    "model = tf.keras.models.Sequential([\n",
    "    tf.keras.layers.Dense(256, input_dim=784, activation = \"relu\", kernel_initializer=initializer_list[2]),\n",
    "    tf.keras.layers.Dropout(dropout_rate),\n",
    "     keras.layers.Dense(256,activation='relu',  kernel_initializer=initializer_list[2]),\n",
    "    tf.keras.layers.Dropout(dropout_rate),\n",
    "    tf.keras.layers.Dense(10, activation='softmax')\n",
    "])"
   ]
  },
  {
   "cell_type": "code",
   "execution_count": 52,
   "metadata": {
    "id": "ziVbGe6sU2QS"
   },
   "outputs": [],
   "source": [
    "model.compile(loss = \"categorical_crossentropy\", \n",
    "              optimizer = \"adam\",\n",
    "              metrics = [\"accuracy\"])"
   ]
  },
  {
   "cell_type": "markdown",
   "metadata": {
    "id": "PVhLJHJ9U2QT"
   },
   "source": [
    "내가 만든 모델을 확인해 봅시다."
   ]
  },
  {
   "cell_type": "code",
   "execution_count": 53,
   "metadata": {
    "id": "GChgw-8sU2QT"
   },
   "outputs": [
    {
     "name": "stdout",
     "output_type": "stream",
     "text": [
      "Model: \"sequential_6\"\n",
      "_________________________________________________________________\n",
      "Layer (type)                 Output Shape              Param #   \n",
      "=================================================================\n",
      "dense_21 (Dense)             (None, 256)               200960    \n",
      "_________________________________________________________________\n",
      "dropout_2 (Dropout)          (None, 256)               0         \n",
      "_________________________________________________________________\n",
      "dense_22 (Dense)             (None, 256)               65792     \n",
      "_________________________________________________________________\n",
      "dropout_3 (Dropout)          (None, 256)               0         \n",
      "_________________________________________________________________\n",
      "dense_23 (Dense)             (None, 10)                2570      \n",
      "=================================================================\n",
      "Total params: 269,322\n",
      "Trainable params: 269,322\n",
      "Non-trainable params: 0\n",
      "_________________________________________________________________\n"
     ]
    }
   ],
   "source": [
    "model.summary()"
   ]
  },
  {
   "cell_type": "markdown",
   "metadata": {
    "id": "f9zWRRHIU2QT"
   },
   "source": [
    "model을 자유롭게 train 해봅시다.  "
   ]
  },
  {
   "cell_type": "code",
   "execution_count": 54,
   "metadata": {
    "id": "6uygJ19gU2QT",
    "scrolled": true
   },
   "outputs": [
    {
     "name": "stdout",
     "output_type": "stream",
     "text": [
      "Epoch 1/50\n",
      "1875/1875 [==============================] - 2s 809us/step - loss: 0.7069 - accuracy: 0.7801\n",
      "Epoch 2/50\n",
      "1875/1875 [==============================] - 2s 809us/step - loss: 0.3342 - accuracy: 0.8993\n",
      "Epoch 3/50\n",
      "1875/1875 [==============================] - 2s 834us/step - loss: 0.2561 - accuracy: 0.9232\n",
      "Epoch 4/50\n",
      "1875/1875 [==============================] - 2s 876us/step - loss: 0.2114 - accuracy: 0.9366\n",
      "Epoch 5/50\n",
      "1875/1875 [==============================] - 2s 866us/step - loss: 0.1805 - accuracy: 0.9453\n",
      "Epoch 6/50\n",
      "1875/1875 [==============================] - 2s 866us/step - loss: 0.1586 - accuracy: 0.9521\n",
      "Epoch 7/50\n",
      "1875/1875 [==============================] - 2s 911us/step - loss: 0.1444 - accuracy: 0.9560\n",
      "Epoch 8/50\n",
      "1875/1875 [==============================] - 2s 933us/step - loss: 0.1302 - accuracy: 0.9601\n",
      "Epoch 9/50\n",
      "1875/1875 [==============================] - 2s 948us/step - loss: 0.1225 - accuracy: 0.9625\n",
      "Epoch 10/50\n",
      "1875/1875 [==============================] - 2s 915us/step - loss: 0.1141 - accuracy: 0.9642\n",
      "Epoch 11/50\n",
      "1875/1875 [==============================] - 2s 924us/step - loss: 0.1065 - accuracy: 0.9672\n",
      "Epoch 12/50\n",
      "1875/1875 [==============================] - 2s 938us/step - loss: 0.1008 - accuracy: 0.9696\n",
      "Epoch 13/50\n",
      "1875/1875 [==============================] - 2s 911us/step - loss: 0.0940 - accuracy: 0.9711\n",
      "Epoch 14/50\n",
      "1875/1875 [==============================] - 2s 920us/step - loss: 0.0894 - accuracy: 0.9714\n",
      "Epoch 15/50\n",
      "1875/1875 [==============================] - 2s 929us/step - loss: 0.0871 - accuracy: 0.9733\n",
      "Epoch 16/50\n",
      "1875/1875 [==============================] - 2s 946us/step - loss: 0.0834 - accuracy: 0.9738\n",
      "Epoch 17/50\n",
      "1875/1875 [==============================] - 2s 1000us/step - loss: 0.0810 - accuracy: 0.9743\n",
      "Epoch 18/50\n",
      "1875/1875 [==============================] - 2s 1ms/step - loss: 0.0751 - accuracy: 0.9760\n",
      "Epoch 19/50\n",
      "1875/1875 [==============================] - 2s 1ms/step - loss: 0.0731 - accuracy: 0.9762\n",
      "Epoch 20/50\n",
      "1875/1875 [==============================] - 2s 1ms/step - loss: 0.0713 - accuracy: 0.9768\n",
      "Epoch 21/50\n",
      "1875/1875 [==============================] - 2s 914us/step - loss: 0.0673 - accuracy: 0.9784\n",
      "Epoch 22/50\n",
      "1875/1875 [==============================] - 2s 911us/step - loss: 0.0659 - accuracy: 0.9790\n",
      "Epoch 23/50\n",
      "1875/1875 [==============================] - 2s 888us/step - loss: 0.0651 - accuracy: 0.9785\n",
      "Epoch 24/50\n",
      "1875/1875 [==============================] - 2s 890us/step - loss: 0.0621 - accuracy: 0.9800\n",
      "Epoch 25/50\n",
      "1875/1875 [==============================] - 2s 893us/step - loss: 0.0585 - accuracy: 0.9813\n",
      "Epoch 26/50\n",
      "1875/1875 [==============================] - 2s 890us/step - loss: 0.0597 - accuracy: 0.9803\n",
      "Epoch 27/50\n",
      "1875/1875 [==============================] - 2s 921us/step - loss: 0.0570 - accuracy: 0.9822\n",
      "Epoch 28/50\n",
      "1875/1875 [==============================] - 2s 912us/step - loss: 0.0559 - accuracy: 0.9819\n",
      "Epoch 29/50\n",
      "1875/1875 [==============================] - 2s 906us/step - loss: 0.0528 - accuracy: 0.9826\n",
      "Epoch 30/50\n",
      "1875/1875 [==============================] - 2s 905us/step - loss: 0.0529 - accuracy: 0.9828\n",
      "Epoch 31/50\n",
      "1875/1875 [==============================] - 2s 892us/step - loss: 0.0527 - accuracy: 0.9835\n",
      "Epoch 32/50\n",
      "1875/1875 [==============================] - 2s 897us/step - loss: 0.0505 - accuracy: 0.9832\n",
      "Epoch 33/50\n",
      "1875/1875 [==============================] - 2s 885us/step - loss: 0.0501 - accuracy: 0.9832\n",
      "Epoch 34/50\n",
      "1875/1875 [==============================] - 2s 888us/step - loss: 0.0488 - accuracy: 0.9837\n",
      "Epoch 35/50\n",
      "1875/1875 [==============================] - 2s 912us/step - loss: 0.0483 - accuracy: 0.9843\n",
      "Epoch 36/50\n",
      "1875/1875 [==============================] - 2s 914us/step - loss: 0.0465 - accuracy: 0.9845\n",
      "Epoch 37/50\n",
      "1875/1875 [==============================] - 2s 915us/step - loss: 0.0447 - accuracy: 0.9855\n",
      "Epoch 38/50\n",
      "1875/1875 [==============================] - 2s 916us/step - loss: 0.0446 - accuracy: 0.9851\n",
      "Epoch 39/50\n",
      "1875/1875 [==============================] - 2s 1ms/step - loss: 0.0440 - accuracy: 0.9860\n",
      "Epoch 40/50\n",
      "1875/1875 [==============================] - 2s 964us/step - loss: 0.0445 - accuracy: 0.9851\n",
      "Epoch 41/50\n",
      "1875/1875 [==============================] - 2s 976us/step - loss: 0.0431 - accuracy: 0.9857\n",
      "Epoch 42/50\n",
      "1875/1875 [==============================] - 2s 951us/step - loss: 0.0418 - accuracy: 0.9862\n",
      "Epoch 43/50\n",
      "1875/1875 [==============================] - 2s 930us/step - loss: 0.0397 - accuracy: 0.9864\n",
      "Epoch 44/50\n",
      "1875/1875 [==============================] - 2s 895us/step - loss: 0.0413 - accuracy: 0.9861\n",
      "Epoch 45/50\n",
      "1875/1875 [==============================] - 2s 902us/step - loss: 0.0385 - accuracy: 0.9870\n",
      "Epoch 46/50\n",
      "1875/1875 [==============================] - 2s 910us/step - loss: 0.0410 - accuracy: 0.9862\n",
      "Epoch 47/50\n",
      "1875/1875 [==============================] - 2s 897us/step - loss: 0.0385 - accuracy: 0.9871\n",
      "Epoch 48/50\n",
      "1875/1875 [==============================] - 2s 925us/step - loss: 0.0371 - accuracy: 0.9875\n",
      "Epoch 49/50\n",
      "1875/1875 [==============================] - 2s 923us/step - loss: 0.0362 - accuracy: 0.9874\n",
      "Epoch 50/50\n",
      "1875/1875 [==============================] - 2s 908us/step - loss: 0.0348 - accuracy: 0.9881\n"
     ]
    }
   ],
   "source": [
    "history = model.fit(x_train_scaled, y_train_cat, epochs=50)"
   ]
  },
  {
   "cell_type": "markdown",
   "metadata": {
    "id": "U8A4zKnEU2QT"
   },
   "source": [
    "95%이상의 성능을 가진 모델을 만들면 완성!"
   ]
  },
  {
   "cell_type": "code",
   "execution_count": 55,
   "metadata": {
    "id": "9Xz0qGifU2QU"
   },
   "outputs": [
    {
     "name": "stdout",
     "output_type": "stream",
     "text": [
      "313/313 - 0s - loss: 0.0710 - accuracy: 0.9815\n",
      "\n",
      "Accuracy: 0.9815000295639038\n"
     ]
    }
   ],
   "source": [
    "test_loss, test_acc = model.evaluate(x_test_scaled,y_test_cat, verbose=2)\n",
    "\n",
    "print('\\nAccuracy:', test_acc)"
   ]
  },
  {
   "cell_type": "code",
   "execution_count": null,
   "metadata": {},
   "outputs": [],
   "source": []
  }
 ],
 "metadata": {
  "colab": {
   "name": "DL(MLP)_과제.ipynb",
   "provenance": []
  },
  "kernelspec": {
   "display_name": "Python 3",
   "language": "python",
   "name": "python3"
  },
  "language_info": {
   "codemirror_mode": {
    "name": "ipython",
    "version": 3
   },
   "file_extension": ".py",
   "mimetype": "text/x-python",
   "name": "python",
   "nbconvert_exporter": "python",
   "pygments_lexer": "ipython3",
   "version": "3.8.3"
  }
 },
 "nbformat": 4,
 "nbformat_minor": 4
}
