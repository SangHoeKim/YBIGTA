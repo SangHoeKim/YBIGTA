{
 "cells": [
  {
   "cell_type": "markdown",
   "metadata": {
    "id": "kSPrjjZhQyAU"
   },
   "source": [
    "YBIGTA 2021-2 교육세션\n",
    "\n",
    "# RNN 과제 : 뉴스 토픽 7중분류하기\n",
    "\n",
    "**강의자 : 한지영**\n",
    "\n",
    "<br>\n",
    "\n",
    "주요 과제는 토큰화, 정수인코딩, 패딩, 모델링(Vanila RNN or LSTM, 모델링 딴걸로 하시려면 하셔도 됩니다!)입니다!\n",
    "\n",
    "주석처리해 놓은 곳(Q1~Q7)을 채워서 완성해주시면 됩니다.\n",
    "\n",
    "오늘 실습한 코드에 거의 답이 있고, 모델링 부분은 오늘 실습을 응용하면 됩니다! 참고해서 작성해주세요~ 화이링!\n"
   ]
  },
  {
   "cell_type": "code",
   "execution_count": 1,
   "metadata": {
    "id": "TMtut_lwSf-_"
   },
   "outputs": [],
   "source": [
    "import pandas as pd\n",
    "import numpy as np\n",
    "import re\n",
    "\n",
    "import seaborn as sns\n",
    "import matplotlib.pyplot as plt\n",
    "\n",
    "from sklearn.metrics import accuracy_score, log_loss\n",
    "from sklearn.model_selection import StratifiedKFold\n",
    "\n",
    "import tensorflow as tf\n",
    "from tensorflow.keras import Sequential\n",
    "from tensorflow.keras.layers import Dense, Embedding, LSTM, Dropout, Bidirectional\n",
    "from tensorflow.keras.preprocessing.sequence import pad_sequences\n",
    "from tensorflow.keras.preprocessing.text import Tokenizer\n",
    "from tensorflow.keras.callbacks import EarlyStopping, ReduceLROnPlateau\n",
    "from tensorflow.keras.utils import plot_model, to_categorical\n",
    "from tensorflow.keras.optimizers import Adam\n",
    "\n",
    "from keras.utils import np_utils\n",
    "\n",
    "import warnings \n",
    "warnings.filterwarnings(action='ignore')"
   ]
  },
  {
   "cell_type": "code",
   "execution_count": 6,
   "metadata": {
    "id": "tfFlvsLEQxqt"
   },
   "outputs": [],
   "source": [
    "train = pd.read_csv(\"data/train_data.csv\", index_col=0)\n",
    "test = pd.read_csv(\"data/test_data.csv\", index_col=0)"
   ]
  },
  {
   "cell_type": "code",
   "execution_count": 7,
   "metadata": {
    "colab": {
     "base_uri": "https://localhost:8080/",
     "height": 417
    },
    "executionInfo": {
     "elapsed": 293,
     "status": "ok",
     "timestamp": 1628071961630,
     "user": {
      "displayName": "옴성",
      "photoUrl": "https://lh3.googleusercontent.com/a-/AOh14Gi3xgW2TQgZsP2qGuRLccZQYP0c_CU_1TwgN-_1lQ=s64",
      "userId": "03180495993042340482"
     },
     "user_tz": -540
    },
    "id": "bVpiWU-MSIF3",
    "outputId": "1c165d04-a03e-4512-92be-b6e72d4df672"
   },
   "outputs": [
    {
     "data": {
      "text/html": [
       "<div>\n",
       "<style scoped>\n",
       "    .dataframe tbody tr th:only-of-type {\n",
       "        vertical-align: middle;\n",
       "    }\n",
       "\n",
       "    .dataframe tbody tr th {\n",
       "        vertical-align: top;\n",
       "    }\n",
       "\n",
       "    .dataframe thead th {\n",
       "        text-align: right;\n",
       "    }\n",
       "</style>\n",
       "<table border=\"1\" class=\"dataframe\">\n",
       "  <thead>\n",
       "    <tr style=\"text-align: right;\">\n",
       "      <th></th>\n",
       "      <th>title</th>\n",
       "      <th>topic_idx</th>\n",
       "    </tr>\n",
       "    <tr>\n",
       "      <th>index</th>\n",
       "      <th></th>\n",
       "      <th></th>\n",
       "    </tr>\n",
       "  </thead>\n",
       "  <tbody>\n",
       "    <tr>\n",
       "      <th>0</th>\n",
       "      <td>인천→핀란드 항공기 결항…휴가철 여행객 분통</td>\n",
       "      <td>4</td>\n",
       "    </tr>\n",
       "    <tr>\n",
       "      <th>1</th>\n",
       "      <td>실리콘밸리 넘어서겠다…구글 15조원 들여 美전역 거점화</td>\n",
       "      <td>4</td>\n",
       "    </tr>\n",
       "    <tr>\n",
       "      <th>2</th>\n",
       "      <td>이란 외무 긴장완화 해결책은 미국이 경제전쟁 멈추는 것</td>\n",
       "      <td>4</td>\n",
       "    </tr>\n",
       "    <tr>\n",
       "      <th>3</th>\n",
       "      <td>NYT 클린턴 측근韓기업 특수관계 조명…공과 사 맞물려종합</td>\n",
       "      <td>4</td>\n",
       "    </tr>\n",
       "    <tr>\n",
       "      <th>4</th>\n",
       "      <td>시진핑 트럼프에 중미 무역협상 조속 타결 희망</td>\n",
       "      <td>4</td>\n",
       "    </tr>\n",
       "    <tr>\n",
       "      <th>...</th>\n",
       "      <td>...</td>\n",
       "      <td>...</td>\n",
       "    </tr>\n",
       "    <tr>\n",
       "      <th>45649</th>\n",
       "      <td>KB금융 미국 IB 스티펠과 제휴…선진국 시장 공략</td>\n",
       "      <td>1</td>\n",
       "    </tr>\n",
       "    <tr>\n",
       "      <th>45650</th>\n",
       "      <td>1보 서울시교육청 신종코로나 확산에 개학 연기·휴업 검토</td>\n",
       "      <td>2</td>\n",
       "    </tr>\n",
       "    <tr>\n",
       "      <th>45651</th>\n",
       "      <td>게시판 키움증권 2020 키움 영웅전 실전투자대회</td>\n",
       "      <td>1</td>\n",
       "    </tr>\n",
       "    <tr>\n",
       "      <th>45652</th>\n",
       "      <td>답변하는 배기동 국립중앙박물관장</td>\n",
       "      <td>2</td>\n",
       "    </tr>\n",
       "    <tr>\n",
       "      <th>45653</th>\n",
       "      <td>2020 한국인터넷기자상 시상식 내달 1일 개최…특별상 김성후</td>\n",
       "      <td>2</td>\n",
       "    </tr>\n",
       "  </tbody>\n",
       "</table>\n",
       "<p>45654 rows × 2 columns</p>\n",
       "</div>"
      ],
      "text/plain": [
       "                                    title  topic_idx\n",
       "index                                               \n",
       "0                인천→핀란드 항공기 결항…휴가철 여행객 분통          4\n",
       "1          실리콘밸리 넘어서겠다…구글 15조원 들여 美전역 거점화          4\n",
       "2          이란 외무 긴장완화 해결책은 미국이 경제전쟁 멈추는 것          4\n",
       "3        NYT 클린턴 측근韓기업 특수관계 조명…공과 사 맞물려종합          4\n",
       "4               시진핑 트럼프에 중미 무역협상 조속 타결 희망          4\n",
       "...                                   ...        ...\n",
       "45649        KB금융 미국 IB 스티펠과 제휴…선진국 시장 공략          1\n",
       "45650     1보 서울시교육청 신종코로나 확산에 개학 연기·휴업 검토          2\n",
       "45651         게시판 키움증권 2020 키움 영웅전 실전투자대회          1\n",
       "45652                   답변하는 배기동 국립중앙박물관장          2\n",
       "45653  2020 한국인터넷기자상 시상식 내달 1일 개최…특별상 김성후          2\n",
       "\n",
       "[45654 rows x 2 columns]"
      ]
     },
     "execution_count": 7,
     "metadata": {},
     "output_type": "execute_result"
    }
   ],
   "source": [
    "train"
   ]
  },
  {
   "cell_type": "markdown",
   "metadata": {
    "id": "1jQNxaNJSvGh"
   },
   "source": [
    "### eda\n",
    "EDA는 확인만 하시고 넘어가시면 됩니다~"
   ]
  },
  {
   "cell_type": "code",
   "execution_count": 9,
   "metadata": {
    "colab": {
     "base_uri": "https://localhost:8080/",
     "height": 310
    },
    "executionInfo": {
     "elapsed": 529,
     "status": "ok",
     "timestamp": 1628070724715,
     "user": {
      "displayName": "옴성",
      "photoUrl": "https://lh3.googleusercontent.com/a-/AOh14Gi3xgW2TQgZsP2qGuRLccZQYP0c_CU_1TwgN-_1lQ=s64",
      "userId": "03180495993042340482"
     },
     "user_tz": -540
    },
    "id": "1WU0sWDqSIIP",
    "outputId": "84c57988-071d-4c2c-eba4-3db76fe749e7"
   },
   "outputs": [
    {
     "data": {
      "image/png": "[encoded data removed]",
      "text/plain": [
       "<Figure size 432x288 with 1 Axes>"
      ]
     },
     "metadata": {
      "needs_background": "light"
     },
     "output_type": "display_data"
    }
   ],
   "source": [
    "# 작가별 분포도 확인 \n",
    "train.groupby(train.topic_idx).size().reset_index(name=\"counts\").plot.bar(x='topic_idx',title=\"Samples per each class (Training set)\")\n",
    "plt.show()"
   ]
  },
  {
   "cell_type": "code",
   "execution_count": 10,
   "metadata": {
    "colab": {
     "base_uri": "https://localhost:8080/",
     "height": 298
    },
    "executionInfo": {
     "elapsed": 1441,
     "status": "ok",
     "timestamp": 1628070726805,
     "user": {
      "displayName": "옴성",
      "photoUrl": "https://lh3.googleusercontent.com/a-/AOh14Gi3xgW2TQgZsP2qGuRLccZQYP0c_CU_1TwgN-_1lQ=s64",
      "userId": "03180495993042340482"
     },
     "user_tz": -540
    },
    "id": "jBLm89_BSIKA",
    "outputId": "779b7750-ec77-4aa6-e5b1-c9782cd5f0c3"
   },
   "outputs": [
    {
     "data": {
      "image/png": "[encoded data removed]",
      "text/plain": [
       "<Figure size 432x288 with 1 Axes>"
      ]
     },
     "metadata": {
      "needs_background": "light"
     },
     "output_type": "display_data"
    },
    {
     "name": "stdout",
     "output_type": "stream",
     "text": [
      " 가장 긴 문장은 13 개의 단어를, 가장 짧은 문장은 1 개의 단어를 가지고 있습니다.\n"
     ]
    }
   ],
   "source": [
    "# 문장 길이 분포도 확인\n",
    "train['doc_len'] = train.title.apply(lambda words: len(words.split()))\n",
    "\n",
    "def plot_doc_lengths(dataframe):\n",
    "    mean_seq_len = np.round(dataframe.doc_len.mean()).astype(int)\n",
    "    sns.distplot(tuple(dataframe.doc_len), hist=True, kde=True, label='Document lengths')\n",
    "    plt.axvline(x=mean_seq_len, color='k', linestyle='--', label=f'Sequence length mean:{mean_seq_len}')\n",
    "    plt.title('Document lengths')\n",
    "    plt.legend()\n",
    "    plt.show()\n",
    "    print(f\" 가장 긴 문장은 {train['doc_len'].max()} 개의 단어를, 가장 짧은 문장은 {train['doc_len'].min()} 개의 단어를 가지고 있습니다.\")\n",
    "\n",
    "plot_doc_lengths(train)"
   ]
  },
  {
   "cell_type": "markdown",
   "metadata": {
    "id": "Scp0ZjeJTrBj"
   },
   "source": [
    "### 텍스트 기본 전처리\n",
    "코드 실행만 해주시고 넘어가시면 됩니다~"
   ]
  },
  {
   "cell_type": "code",
   "execution_count": 11,
   "metadata": {
    "id": "T9aBv-RCQuJu"
   },
   "outputs": [],
   "source": [
    "train.drop_duplicates(subset=['title'], inplace=True) # 중복값 있다면 제거"
   ]
  },
  {
   "cell_type": "code",
   "execution_count": 12,
   "metadata": {
    "colab": {
     "base_uri": "https://localhost:8080/"
    },
    "executionInfo": {
     "elapsed": 17,
     "status": "ok",
     "timestamp": 1628070726810,
     "user": {
      "displayName": "옴성",
      "photoUrl": "https://lh3.googleusercontent.com/a-/AOh14Gi3xgW2TQgZsP2qGuRLccZQYP0c_CU_1TwgN-_1lQ=s64",
      "userId": "03180495993042340482"
     },
     "user_tz": -540
    },
    "id": "lM3Eug62QuME",
    "outputId": "f1dfaf73-47a2-45d9-e118-93a74b5ca1b3"
   },
   "outputs": [
    {
     "name": "stdout",
     "output_type": "stream",
     "text": [
      "False\n"
     ]
    }
   ],
   "source": [
    "train = train.dropna(how = 'any') # Null 값이 존재하는 행 제거\n",
    "print(train.isnull().values.any()) # Null 값이 존재하는지 확인"
   ]
  },
  {
   "cell_type": "code",
   "execution_count": 13,
   "metadata": {
    "colab": {
     "base_uri": "https://localhost:8080/",
     "height": 203
    },
    "executionInfo": {
     "elapsed": 19,
     "status": "ok",
     "timestamp": 1628070727163,
     "user": {
      "displayName": "옴성",
      "photoUrl": "https://lh3.googleusercontent.com/a-/AOh14Gi3xgW2TQgZsP2qGuRLccZQYP0c_CU_1TwgN-_1lQ=s64",
      "userId": "03180495993042340482"
     },
     "user_tz": -540
    },
    "id": "WICiog56UC_j",
    "outputId": "2ea3f996-99ef-429b-8168-6986042ce87f"
   },
   "outputs": [
    {
     "data": {
      "text/html": [
       "<div>\n",
       "<style scoped>\n",
       "    .dataframe tbody tr th:only-of-type {\n",
       "        vertical-align: middle;\n",
       "    }\n",
       "\n",
       "    .dataframe tbody tr th {\n",
       "        vertical-align: top;\n",
       "    }\n",
       "\n",
       "    .dataframe thead th {\n",
       "        text-align: right;\n",
       "    }\n",
       "</style>\n",
       "<table border=\"1\" class=\"dataframe\">\n",
       "  <thead>\n",
       "    <tr style=\"text-align: right;\">\n",
       "      <th></th>\n",
       "      <th>title</th>\n",
       "      <th>topic_idx</th>\n",
       "      <th>doc_len</th>\n",
       "    </tr>\n",
       "    <tr>\n",
       "      <th>index</th>\n",
       "      <th></th>\n",
       "      <th></th>\n",
       "      <th></th>\n",
       "    </tr>\n",
       "  </thead>\n",
       "  <tbody>\n",
       "    <tr>\n",
       "      <th>0</th>\n",
       "      <td>인천핀란드 항공기 결항휴가철 여행객 분통</td>\n",
       "      <td>4</td>\n",
       "      <td>5</td>\n",
       "    </tr>\n",
       "    <tr>\n",
       "      <th>1</th>\n",
       "      <td>실리콘밸리 넘어서겠다구글 조원 들여 전역 거점화</td>\n",
       "      <td>4</td>\n",
       "      <td>6</td>\n",
       "    </tr>\n",
       "    <tr>\n",
       "      <th>2</th>\n",
       "      <td>이란 외무 긴장완화 해결책은 미국이 경제전쟁 멈추는 것</td>\n",
       "      <td>4</td>\n",
       "      <td>8</td>\n",
       "    </tr>\n",
       "    <tr>\n",
       "      <th>3</th>\n",
       "      <td>클린턴 측근기업 특수관계 조명공과 사 맞물려종합</td>\n",
       "      <td>4</td>\n",
       "      <td>7</td>\n",
       "    </tr>\n",
       "    <tr>\n",
       "      <th>4</th>\n",
       "      <td>시진핑 트럼프에 중미 무역협상 조속 타결 희망</td>\n",
       "      <td>4</td>\n",
       "      <td>7</td>\n",
       "    </tr>\n",
       "  </tbody>\n",
       "</table>\n",
       "</div>"
      ],
      "text/plain": [
       "                                title  topic_idx  doc_len\n",
       "index                                                    \n",
       "0              인천핀란드 항공기 결항휴가철 여행객 분통          4        5\n",
       "1          실리콘밸리 넘어서겠다구글 조원 들여 전역 거점화          4        6\n",
       "2      이란 외무 긴장완화 해결책은 미국이 경제전쟁 멈추는 것          4        8\n",
       "3          클린턴 측근기업 특수관계 조명공과 사 맞물려종합          4        7\n",
       "4           시진핑 트럼프에 중미 무역협상 조속 타결 희망          4        7"
      ]
     },
     "execution_count": 13,
     "metadata": {},
     "output_type": "execute_result"
    }
   ],
   "source": [
    "train['title'] = train['title'].str.replace(\"[^ㄱ-ㅎㅏ-ㅣ가-힣 ]\",\"\")\n",
    "# 한글과 공백을 제외하고 모두 제거\n",
    "train[:5]"
   ]
  },
  {
   "cell_type": "code",
   "execution_count": 14,
   "metadata": {
    "id": "3kOWEV6yUDB2"
   },
   "outputs": [],
   "source": [
    "# 한글만 남긴 이후, 빈 값이 된 행을 제거해줍시다.\n",
    "train['title'] = train['title'].str.replace('^ +', \"\") # white space 데이터를 empty value로 변경\n",
    "train['title'].replace('', np.nan, inplace=True)\n",
    "train = train.dropna(how = 'any')"
   ]
  },
  {
   "cell_type": "code",
   "execution_count": 15,
   "metadata": {
    "colab": {
     "base_uri": "https://localhost:8080/"
    },
    "executionInfo": {
     "elapsed": 3,
     "status": "ok",
     "timestamp": 1628070727773,
     "user": {
      "displayName": "옴성",
      "photoUrl": "https://lh3.googleusercontent.com/a-/AOh14Gi3xgW2TQgZsP2qGuRLccZQYP0c_CU_1TwgN-_1lQ=s64",
      "userId": "03180495993042340482"
     },
     "user_tz": -540
    },
    "id": "qfm6opt2UDD4",
    "outputId": "fdd3b39a-81f7-418a-9422-b260025f543e"
   },
   "outputs": [
    {
     "name": "stdout",
     "output_type": "stream",
     "text": [
      "전처리 후 테스트용 샘플의 개수 : 9131\n"
     ]
    }
   ],
   "source": [
    "# test data에 대해서도 같은 과정을 수행해줍니다.\n",
    "test.drop_duplicates(subset = ['title'], inplace=True) # title 열에서 중복인 내용이 있다면 중복 제거\n",
    "test['title'] = test['title'].str.replace(\"[^ㄱ-ㅎㅏ-ㅣ가-힣 ]\",\"\") # 정규 표현식 수행\n",
    "test['title'] = test['title'].str.replace('^ +', \"\") # 공백은 empty 값으로 변경\n",
    "test['title'].replace('', np.nan, inplace=True) # 공백은 Null 값으로 변경\n",
    "test = test.dropna(how='any') # Null 값 제거\n",
    "print('전처리 후 테스트용 샘플의 개수 :',len(test))"
   ]
  },
  {
   "cell_type": "markdown",
   "metadata": {
    "id": "3o1PSr34Uo23"
   },
   "source": [
    "### 본 과제 시작! Q1~Q7을 채워주세요!"
   ]
  },
  {
   "cell_type": "code",
   "execution_count": 16,
   "metadata": {
    "colab": {
     "base_uri": "https://localhost:8080/"
    },
    "executionInfo": {
     "elapsed": 3320,
     "status": "ok",
     "timestamp": 1628070735127,
     "user": {
      "displayName": "옴성",
      "photoUrl": "https://lh3.googleusercontent.com/a-/AOh14Gi3xgW2TQgZsP2qGuRLccZQYP0c_CU_1TwgN-_1lQ=s64",
      "userId": "03180495993042340482"
     },
     "user_tz": -540
    },
    "id": "1mg1GsusWWFi",
    "outputId": "e0fdda5e-4b84-4787-9cc1-92e8b5f1751f"
   },
   "outputs": [
    {
     "name": "stdout",
     "output_type": "stream",
     "text": [
      "Requirement already satisfied: konlpy in c:\\users\\felab\\anaconda3\\lib\\site-packages (0.5.2)\n",
      "Requirement already satisfied: lxml>=4.1.0 in c:\\users\\felab\\anaconda3\\lib\\site-packages (from konlpy) (4.5.2)\n",
      "Requirement already satisfied: colorama in c:\\users\\felab\\anaconda3\\lib\\site-packages (from konlpy) (0.4.3)\n",
      "Requirement already satisfied: numpy>=1.6 in c:\\users\\felab\\anaconda3\\lib\\site-packages (from konlpy) (1.18.5)\n",
      "Requirement already satisfied: JPype1>=0.7.0 in c:\\users\\felab\\anaconda3\\lib\\site-packages (from konlpy) (1.1.2)\n",
      "Requirement already satisfied: tweepy>=3.7.0 in c:\\users\\felab\\anaconda3\\lib\\site-packages (from konlpy) (3.9.0)\n",
      "Collecting beautifulsoup4==4.6.0\n",
      "  Using cached beautifulsoup4-4.6.0-py3-none-any.whl (86 kB)\n",
      "Requirement already satisfied: requests-oauthlib>=0.7.0 in c:\\users\\felab\\anaconda3\\lib\\site-packages (from tweepy>=3.7.0->konlpy) (1.3.0)\n",
      "Requirement already satisfied: six>=1.10.0 in c:\\users\\felab\\anaconda3\\lib\\site-packages (from tweepy>=3.7.0->konlpy) (1.15.0)\n",
      "Requirement already satisfied: requests[socks]>=2.11.1 in c:\\users\\felab\\anaconda3\\lib\\site-packages (from tweepy>=3.7.0->konlpy) (2.24.0)\n",
      "Requirement already satisfied: oauthlib>=3.0.0 in c:\\users\\felab\\anaconda3\\lib\\site-packages (from requests-oauthlib>=0.7.0->tweepy>=3.7.0->konlpy) (3.1.0)\n",
      "Requirement already satisfied: certifi>=2017.4.17 in c:\\users\\felab\\anaconda3\\lib\\site-packages (from requests[socks]>=2.11.1->tweepy>=3.7.0->konlpy) (2021.5.30)\n",
      "Requirement already satisfied: idna<3,>=2.5 in c:\\users\\felab\\anaconda3\\lib\\site-packages (from requests[socks]>=2.11.1->tweepy>=3.7.0->konlpy) (2.10)\n",
      "Requirement already satisfied: urllib3!=1.25.0,!=1.25.1,<1.26,>=1.21.1 in c:\\users\\felab\\anaconda3\\lib\\site-packages (from requests[socks]>=2.11.1->tweepy>=3.7.0->konlpy) (1.25.9)\n",
      "Requirement already satisfied: chardet<4,>=3.0.2 in c:\\users\\felab\\anaconda3\\lib\\site-packages (from requests[socks]>=2.11.1->tweepy>=3.7.0->konlpy) (3.0.4)\n",
      "Requirement already satisfied: PySocks!=1.5.7,>=1.5.6 in c:\\users\\felab\\anaconda3\\lib\\site-packages (from requests[socks]>=2.11.1->tweepy>=3.7.0->konlpy) (1.7.1)\n",
      "Installing collected packages: beautifulsoup4\n",
      "  Attempting uninstall: beautifulsoup4\n",
      "    Found existing installation: beautifulsoup4 4.9.3\n",
      "    Uninstalling beautifulsoup4-4.9.3:\n",
      "      Successfully uninstalled beautifulsoup4-4.9.3\n",
      "Successfully installed beautifulsoup4-4.6.0\n"
     ]
    }
   ],
   "source": [
    "!pip3 install konlpy\n",
    "from konlpy.tag import Okt"
   ]
  },
  {
   "cell_type": "code",
   "execution_count": 17,
   "metadata": {
    "id": "pvMeK1nyUoWW"
   },
   "outputs": [],
   "source": [
    "stopwords = ['의','가','이','은','들','는','좀','잘','걍','과','도','를','으로','자','에','와','한','하다']\n",
    "okt = Okt()"
   ]
  },
  {
   "cell_type": "code",
   "execution_count": 63,
   "metadata": {
    "id": "s16vd0zrUodn"
   },
   "outputs": [],
   "source": [
    "# 트레인데이터를 토큰화해주세요!\n",
    "X_train = []\n",
    "for sentence in train['title']:\n",
    "    temp_X = okt.morphs(sentence, stem=True) # 토큰화, morphs는 텍스트를 형태소 단위로 나눠줍니다. okt.nouns() 이런 것도 있어요!\n",
    "    temp_X = [word for word in temp_X if not word in stopwords] # 불용어 제거\n",
    "    X_train.append(temp_X)"
   ]
  },
  {
   "cell_type": "code",
   "execution_count": 64,
   "metadata": {
    "id": "xDB_jjNKUDGG"
   },
   "outputs": [],
   "source": [
    "X_test = []\n",
    "for sentence in test['title']:\n",
    "    temp_X = okt.morphs(sentence, stem=True) # 토큰화\n",
    "    temp_X = [word for word in temp_X if not word in stopwords] # 불용어 제거\n",
    "    X_test.append(temp_X)"
   ]
  },
  {
   "cell_type": "code",
   "execution_count": 65,
   "metadata": {
    "id": "wEe5VBmqUDH4"
   },
   "outputs": [],
   "source": [
    "vocab_size = 32000 # vocabsize는 2000으로 하겠습니다!\n",
    "tokenizer = Tokenizer(num_words=vocab_size)\n",
    "tokenizer.fit_on_texts(X_train) #단어 집합 생성, 각 단어에 고유한 정수 부여(정수인코딩)"
   ]
  },
  {
   "cell_type": "code",
   "execution_count": 66,
   "metadata": {},
   "outputs": [
    {
     "data": {
      "text/plain": [
       "26945"
      ]
     },
     "execution_count": 66,
     "metadata": {},
     "output_type": "execute_result"
    }
   ],
   "source": [
    "len(tokenizer.word_index)"
   ]
  },
  {
   "cell_type": "code",
   "execution_count": 67,
   "metadata": {},
   "outputs": [
    {
     "name": "stdout",
     "output_type": "stream",
     "text": [
      "단어 집합(vocabulary)의 크기 : 26945\n",
      "등장 빈도가 2번 이하인 희귀 단어의 수: 13494\n",
      "단어 집합에서 희귀 단어의 비율: 50.07979216923363\n",
      "전체 등장 빈도에서 희귀 단어 등장 빈도 비율: 4.326704644741901\n"
     ]
    }
   ],
   "source": [
    "threshold = 3\n",
    "total_cnt = len(tokenizer.word_index) # 단어의 수\n",
    "rare_cnt = 0 # 등장 빈도수가 threshold보다 작은 단어의 개수를 카운트\n",
    "total_freq = 0 # 훈련 데이터의 전체 단어 빈도수 총 합\n",
    "rare_freq = 0 # 등장 빈도수가 threshold보다 작은 단어의 등장 빈도수의 총 합\n",
    "\n",
    "# 단어와 빈도수의 쌍(pair)을 key와 value로 받는다.\n",
    "for key, value in tokenizer.word_counts.items():\n",
    "    total_freq = total_freq + value\n",
    "\n",
    "    # 단어의 등장 빈도수가 threshold보다 작으면\n",
    "    if(value < threshold):\n",
    "        rare_cnt = rare_cnt + 1\n",
    "        rare_freq = rare_freq + value\n",
    "\n",
    "print('단어 집합(vocabulary)의 크기 :',total_cnt)\n",
    "print('등장 빈도가 %s번 이하인 희귀 단어의 수: %s'%(threshold - 1, rare_cnt))\n",
    "print(\"단어 집합에서 희귀 단어의 비율:\", (rare_cnt / total_cnt)*100)\n",
    "print(\"전체 등장 빈도에서 희귀 단어 등장 빈도 비율:\", (rare_freq / total_freq)*100)"
   ]
  },
  {
   "cell_type": "code",
   "execution_count": 68,
   "metadata": {
    "id": "Ouk-xElrUDKd"
   },
   "outputs": [],
   "source": [
    "# Q5. texts_to_sequence()를 통해 X_train과 X_test의 텍스트 시퀀스를 숫자 시퀀스로 바꿔줍시다!\n",
    "X_train = tokenizer.texts_to_sequences(X_train)\n",
    "X_test = tokenizer.texts_to_sequences(X_test)\n",
    "################################################################################\n",
    "\n",
    "y_train = np.array(train['topic_idx'])\n",
    "y_train = to_categorical(y_train, 7)"
   ]
  },
  {
   "cell_type": "code",
   "execution_count": 69,
   "metadata": {
    "colab": {
     "base_uri": "https://localhost:8080/",
     "height": 313
    },
    "id": "4bvgChOSUDMP",
    "outputId": "9f90ddac-de6a-44d0-dfa0-bfc37227930d"
   },
   "outputs": [
    {
     "name": "stdout",
     "output_type": "stream",
     "text": [
      "리뷰의 최대 길이 : 17\n",
      "리뷰의 평균 길이 : 8.774494556765163\n"
     ]
    },
    {
     "data": {
      "image/png": "[encoded data removed]",
      "text/plain": [
       "<Figure size 432x288 with 1 Axes>"
      ]
     },
     "metadata": {
      "needs_background": "light"
     },
     "output_type": "display_data"
    }
   ],
   "source": [
    "#리뷰 길이 분포 보기\n",
    "print('리뷰의 최대 길이 :',max(len(l) for l in X_train))\n",
    "print('리뷰의 평균 길이 :',sum(map(len, X_train))/len(X_train))\n",
    "plt.hist([len(s) for s in X_train], bins=50)\n",
    "plt.xlabel('length of samples')\n",
    "plt.ylabel('number of samples')\n",
    "plt.show()"
   ]
  },
  {
   "cell_type": "code",
   "execution_count": 70,
   "metadata": {
    "id": "O2q6vhBvQuQN"
   },
   "outputs": [],
   "source": [
    "max_len = 15\n",
    "\n",
    "##### Q6. pad_sequences 함수 이용해서 패딩 진행해주세요! max_len도 지정해주세요! ######\n",
    "X_train = pad_sequences(X_train, maxlen = max_len)\n",
    "X_test = pad_sequences(X_test, maxlen = max_len)"
   ]
  },
  {
   "cell_type": "code",
   "execution_count": 74,
   "metadata": {
    "id": "MlxEW2AXQuSf"
   },
   "outputs": [],
   "source": [
    "embedding_dim = 3200 #vocab_size와 max_len 파라미터 세팅은 위에서 이미 진행했습니다! 이용해서 모델링 해주세요~\n",
    "\n",
    "#################### Q7 ####################\n",
    "# lstm/vanila RNN, 혹은 다른 모델도 상관 없습니다! import 할 거 하시고, 모델링을 해주세요!\n",
    "# 힌트: 마지막 dense 층에서 출력 뉴런 수, 활성화 함수를 잘 설정하시는게 중요합니다!\n",
    "# 힌트2: vocab_size와 max_len, embedding_dim 파라미터 이용해서 모델링 해주세요~\n",
    "\n",
    "from tensorflow.keras import layers\n",
    "from tensorflow.keras.layers import Embedding, Dense, LSTM\n",
    "from tensorflow.keras.models import Sequential\n",
    "from tensorflow.keras.models import load_model\n",
    "from tensorflow.keras.callbacks import EarlyStopping, ModelCheckpoint\n",
    "\n",
    "model = Sequential()\n",
    "model.add(Embedding(vocab_size, embedding_dim))\n",
    "model.add(layers.SpatialDropout1D(0.4))\n",
    "model.add(\n",
    "    layers.Bidirectional(layers.LSTM(128, return_sequences=True, dropout=0.2, recurrent_dropout=0.2))\n",
    ")\n",
    "model.add(layers.Bidirectional(layers.LSTM(128, dropout=0.2, recurrent_dropout=0.2)))\n",
    "model.add(Dense(7, activation='sigmoid'))"
   ]
  },
  {
   "cell_type": "code",
   "execution_count": 77,
   "metadata": {},
   "outputs": [],
   "source": [
    "es = EarlyStopping(monitor='val_loss', mode='min', verbose=1, patience=4) #검증 데이터 손실(val_loss)이 증가하면, 과적합 징후므로 검증 데이터 손실이 4회 증가하면 학습을 조기 종료(Early Stopping)합니다.\n",
    "mc = ModelCheckpoint('best_model.h5', monitor='val_acc', mode='max', verbose=1, save_best_only=True) #ModelCheckpoint를 사용하여 검증 데이터의 정확도(val_acc)가 이전보다 좋아질 경우에만 모델을 저장합니다."
   ]
  },
  {
   "cell_type": "code",
   "execution_count": 79,
   "metadata": {
    "colab": {
     "base_uri": "https://localhost:8080/"
    },
    "id": "6SbRlq5XYo0M",
    "outputId": "40c16fd4-e02e-47e4-e8ba-0e19d090782d"
   },
   "outputs": [
    {
     "name": "stdout",
     "output_type": "stream",
     "text": [
      "Epoch 1/30\n",
      "36/36 [==============================] - ETA: 0s - loss: 0.4986 - acc: 0.8372\n",
      "Epoch 00001: val_acc improved from -inf to 0.75326, saving model to best_model.h5\n",
      "36/36 [==============================] - 164s 5s/step - loss: 0.4986 - acc: 0.8372 - val_loss: 0.7117 - val_acc: 0.7533\n",
      "Epoch 2/30\n",
      "36/36 [==============================] - ETA: 0s - loss: 0.2698 - acc: 0.9158\n",
      "Epoch 00002: val_acc did not improve from 0.75326\n",
      "36/36 [==============================] - 160s 4s/step - loss: 0.2698 - acc: 0.9158 - val_loss: 0.7666 - val_acc: 0.7421\n",
      "Epoch 3/30\n",
      "36/36 [==============================] - ETA: 0s - loss: 0.1691 - acc: 0.9472\n",
      "Epoch 00003: val_acc did not improve from 0.75326\n",
      "36/36 [==============================] - 161s 4s/step - loss: 0.1691 - acc: 0.9472 - val_loss: 0.8579 - val_acc: 0.7432\n",
      "Epoch 4/30\n",
      "36/36 [==============================] - ETA: 0s - loss: 0.1120 - acc: 0.9655\n",
      "Epoch 00004: val_acc did not improve from 0.75326\n",
      "36/36 [==============================] - 162s 4s/step - loss: 0.1120 - acc: 0.9655 - val_loss: 1.1409 - val_acc: 0.7046\n",
      "Epoch 5/30\n",
      "36/36 [==============================] - ETA: 0s - loss: 0.0827 - acc: 0.9737\n",
      "Epoch 00005: val_acc did not improve from 0.75326\n",
      "36/36 [==============================] - 165s 5s/step - loss: 0.0827 - acc: 0.9737 - val_loss: 1.1694 - val_acc: 0.7174\n",
      "Epoch 00005: early stopping\n"
     ]
    }
   ],
   "source": [
    "#학습을 진행시켜봅시다! 셀을 실행시켜주세요! epoch, validation_split은 원하시는대로 바꾸셔도 되고, Early Stopping 응용하셔도 됩니다!\n",
    "with tf.device(\"/gpu:0\"):\n",
    "    model.compile(optimizer='adam', loss='categorical_crossentropy', metrics=['acc'])\n",
    "    history = model.fit(X_train, y_train, epochs=30, callbacks=[es, mc], batch_size=1024, validation_split=0.2)"
   ]
  },
  {
   "cell_type": "code",
   "execution_count": 80,
   "metadata": {},
   "outputs": [
    {
     "data": {
      "image/png": "[encoded data removed]",
      "text/plain": [
       "<Figure size 864x288 with 2 Axes>"
      ]
     },
     "metadata": {
      "needs_background": "light"
     },
     "output_type": "display_data"
    }
   ],
   "source": [
    "#에러 없이, 원하는 모델로 마지막 epoch까지 학습을 완료시켜주시고 이 셀을 실행시켜주세요! 에러 없이 해당셀까지 실행시켜주시면 성공입니다~\n",
    "\n",
    "# 모델 학습 결과 확인\n",
    "plt.figure(figsize=(12, 4))\n",
    "\n",
    "plt.subplot(1, 2, 1)\n",
    "plt.title('loss', fontsize= 15)\n",
    "plt.plot(history.history['loss'], 'b-', label='loss')\n",
    "plt.plot(history.history['val_loss'],'r--', label='val_loss')\n",
    "plt.xlabel('Epoch')\n",
    "plt.legend()\n",
    "\n",
    "plt.subplot(1, 2, 2)\n",
    "plt.title('accuracy', fontsize= 15)\n",
    "plt.plot(history.history['acc'], 'g-', label='accuracy')\n",
    "plt.plot(history.history['val_acc'],'k--', label='val_accuracy')\n",
    "plt.xlabel('Epoch')\n",
    "plt.legend()\n",
    "plt.show()"
   ]
  },
  {
   "cell_type": "markdown",
   "metadata": {
    "id": "uir-WBtYepc9"
   },
   "source": [
    "------\n",
    "\n",
    "**수고하셨습니다🥰🥰🥰**"
   ]
  },
  {
   "cell_type": "code",
   "execution_count": null,
   "metadata": {
    "id": "jAVKkcNze-8z"
   },
   "outputs": [],
   "source": []
  }
 ],
 "metadata": {
  "colab": {
   "collapsed_sections": [],
   "name": "RNN_과제.ipynb",
   "provenance": []
  },
  "kernelspec": {
   "display_name": "Python 3",
   "language": "python",
   "name": "python3"
  },
  "language_info": {
   "codemirror_mode": {
    "name": "ipython",
    "version": 3
   },
   "file_extension": ".py",
   "mimetype": "text/x-python",
   "name": "python",
   "nbconvert_exporter": "python",
   "pygments_lexer": "ipython3",
   "version": "3.8.3"
  }
 },
 "nbformat": 4,
 "nbformat_minor": 4
}
